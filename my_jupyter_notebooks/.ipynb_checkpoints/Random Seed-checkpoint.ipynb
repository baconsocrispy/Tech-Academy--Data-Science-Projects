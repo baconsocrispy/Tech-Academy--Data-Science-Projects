{
 "cells": [
  {
   "cell_type": "code",
   "execution_count": 2,
   "id": "2b5cf237",
   "metadata": {},
   "outputs": [],
   "source": [
    "import random"
   ]
  },
  {
   "cell_type": "code",
   "execution_count": 3,
   "id": "df2a3866",
   "metadata": {},
   "outputs": [],
   "source": [
    "random.seed(5)"
   ]
  },
  {
   "cell_type": "code",
   "execution_count": 4,
   "id": "b5b0ab4e",
   "metadata": {},
   "outputs": [
    {
     "name": "stdout",
     "output_type": "stream",
     "text": [
      "319\n"
     ]
    }
   ],
   "source": [
    "print(random.randint(1, 500))"
   ]
  },
  {
   "cell_type": "code",
   "execution_count": 5,
   "id": "9cb886d6",
   "metadata": {},
   "outputs": [
    {
     "name": "stdout",
     "output_type": "stream",
     "text": [
      "131\n"
     ]
    }
   ],
   "source": [
    "print(random.randint(1, 500))"
   ]
  },
  {
   "cell_type": "code",
   "execution_count": 6,
   "id": "8134f546",
   "metadata": {},
   "outputs": [
    {
     "name": "stdout",
     "output_type": "stream",
     "text": [
      "319\n"
     ]
    }
   ],
   "source": [
    "random.seed(5)\n",
    "print(random.randint(1, 500))"
   ]
  },
  {
   "cell_type": "code",
   "execution_count": null,
   "id": "67dab934",
   "metadata": {},
   "outputs": [],
   "source": [
    "for i in range(6):\n",
    "    random.seed(5)\n",
    "    print(random.randint(1, 200))\n",
    "    random.seed(3)\n",
    "    print(random.randint(1, 300))"
   ]
  }
 ],
 "metadata": {
  "kernelspec": {
   "display_name": "Python 3 (ipykernel)",
   "language": "python",
   "name": "python3"
  },
  "language_info": {
   "codemirror_mode": {
    "name": "ipython",
    "version": 3
   },
   "file_extension": ".py",
   "mimetype": "text/x-python",
   "name": "python",
   "nbconvert_exporter": "python",
   "pygments_lexer": "ipython3",
   "version": "3.9.12"
  }
 },
 "nbformat": 4,
 "nbformat_minor": 5
}
