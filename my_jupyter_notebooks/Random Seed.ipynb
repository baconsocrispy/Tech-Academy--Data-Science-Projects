{
 "cells": [
  {
   "cell_type": "code",
   "execution_count": 2,
   "id": "3bc66806",
   "metadata": {},
   "outputs": [],
   "source": [
    "import random"
   ]
  },
  {
   "cell_type": "code",
   "execution_count": 3,
   "id": "43e9453f",
   "metadata": {},
   "outputs": [],
   "source": [
    "random.seed(5)"
   ]
  },
  {
   "cell_type": "code",
   "execution_count": 4,
   "id": "259f9ea7",
   "metadata": {},
   "outputs": [
    {
     "name": "stdout",
     "output_type": "stream",
     "text": [
      "319\n"
     ]
    }
   ],
   "source": [
    "print(random.randint(1, 500))"
   ]
  },
  {
   "cell_type": "code",
   "execution_count": 5,
   "id": "d1c57052",
   "metadata": {},
   "outputs": [
    {
     "name": "stdout",
     "output_type": "stream",
     "text": [
      "131\n"
     ]
    }
   ],
   "source": [
    "print(random.randint(1, 500))"
   ]
  },
  {
   "cell_type": "code",
   "execution_count": 6,
   "id": "86263e91",
   "metadata": {},
   "outputs": [
    {
     "name": "stdout",
     "output_type": "stream",
     "text": [
      "319\n"
     ]
    }
   ],
   "source": [
    "random.seed(5)\n",
    "print(random.randint(1, 500))"
   ]
  },
  {
   "cell_type": "code",
   "execution_count": 7,
   "id": "45a017f2",
   "metadata": {},
   "outputs": [
    {
     "name": "stdout",
     "output_type": "stream",
     "text": [
      "160\n",
      "122\n",
      "160\n",
      "122\n",
      "160\n",
      "122\n",
      "160\n",
      "122\n",
      "160\n",
      "122\n",
      "160\n",
      "122\n"
     ]
    }
   ],
   "source": [
    "for i in range(6):\n",
    "    random.seed(5)\n",
    "    print(random.randint(1, 200))\n",
    "    random.seed(3)\n",
    "    print(random.randint(1, 300))"
   ]
  },
  {
   "cell_type": "code",
   "execution_count": null,
   "id": "0f4ab0e1",
   "metadata": {},
   "outputs": [],
   "source": []
  }
 ],
 "metadata": {
  "kernelspec": {
   "display_name": "Python 3 (ipykernel)",
   "language": "python",
   "name": "python3"
  },
  "language_info": {
   "codemirror_mode": {
    "name": "ipython",
    "version": 3
   },
   "file_extension": ".py",
   "mimetype": "text/x-python",
   "name": "python",
   "nbconvert_exporter": "python",
   "pygments_lexer": "ipython3",
   "version": "3.9.12"
  }
 },
 "nbformat": 4,
 "nbformat_minor": 5
}
